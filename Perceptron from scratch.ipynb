version https://git-lfs.github.com/spec/v1
oid sha256:2d2b8070b3f4e04eaaa96427f1c5f20c587794b41600ea9dec6a658cd0f36ee5
size 24180
