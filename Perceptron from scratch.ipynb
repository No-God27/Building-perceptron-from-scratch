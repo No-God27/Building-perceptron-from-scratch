version https://git-lfs.github.com/spec/v1
oid sha256:6a44ca4a26a15d00e2745ac6c67913b7b853997a368c5cf6af468f65119c3251
size 3867
